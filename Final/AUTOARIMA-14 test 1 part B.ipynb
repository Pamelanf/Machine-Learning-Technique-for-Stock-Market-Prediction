{
 "cells": [
  {
   "cell_type": "markdown",
   "metadata": {},
   "source": [
    "# AUTO-ARIMA MODEL"
   ]
  },
  {
   "cell_type": "markdown",
   "metadata": {},
   "source": [
    "## PHASE I: DATA PRE - PROCESSING"
   ]
  },
  {
   "cell_type": "code",
   "execution_count": 37,
   "metadata": {},
   "outputs": [],
   "source": [
    "from IPython.core.interactiveshell import InteractiveShell\n",
    "InteractiveShell.ast_node_interactivity = \"all\""
   ]
  },
  {
   "cell_type": "code",
   "execution_count": 38,
   "metadata": {},
   "outputs": [],
   "source": [
    "# Importing libraries\n",
    "import numpy as np \n",
    "import matplotlib.pyplot as plt\n",
    "import pandas as pd\n",
    "from pandas import datetime\n",
    "\n",
    "# AUTO-ARIMA\n",
    "from pyramid.arima import auto_arima\n",
    "\n",
    "#Plotly\n",
    "import plotly.plotly as py\n",
    "import plotly.graph_objs as go\n",
    "\n",
    "#calculate rmse\n",
    "from math import sqrt\n",
    "from sklearn.metrics import mean_squared_error"
   ]
  },
  {
   "cell_type": "code",
   "execution_count": 39,
   "metadata": {},
   "outputs": [],
   "source": [
    "# Loading the whole dataset and setting Date column as an index\n",
    "\n",
    "dataset = pd.read_csv(r'C:\\Users\\Pamela\\Desktop\\PROJECT\\DATASET NASDAQ 100\\nasdaq100_joined_closes.csv', index_col=0)\n"
   ]
  },
  {
   "cell_type": "code",
   "execution_count": 40,
   "metadata": {
    "scrolled": true
   },
   "outputs": [
    {
     "data": {
      "text/html": [
       "<div>\n",
       "<style scoped>\n",
       "    .dataframe tbody tr th:only-of-type {\n",
       "        vertical-align: middle;\n",
       "    }\n",
       "\n",
       "    .dataframe tbody tr th {\n",
       "        vertical-align: top;\n",
       "    }\n",
       "\n",
       "    .dataframe thead th {\n",
       "        text-align: right;\n",
       "    }\n",
       "</style>\n",
       "<table border=\"1\" class=\"dataframe\">\n",
       "  <thead>\n",
       "    <tr style=\"text-align: right;\">\n",
       "      <th></th>\n",
       "      <th>ATVI</th>\n",
       "      <th>ADBE</th>\n",
       "      <th>AMD</th>\n",
       "      <th>ALXN</th>\n",
       "      <th>ALGN</th>\n",
       "      <th>GOOGL</th>\n",
       "      <th>GOOG</th>\n",
       "      <th>AMZN</th>\n",
       "      <th>AAL</th>\n",
       "      <th>AMGN</th>\n",
       "      <th>...</th>\n",
       "      <th>VRSN</th>\n",
       "      <th>VRSK</th>\n",
       "      <th>VRTX</th>\n",
       "      <th>WBA</th>\n",
       "      <th>WDC</th>\n",
       "      <th>WLTW</th>\n",
       "      <th>WDAY</th>\n",
       "      <th>WYNN</th>\n",
       "      <th>XEL</th>\n",
       "      <th>XLNX</th>\n",
       "    </tr>\n",
       "    <tr>\n",
       "      <th>Date</th>\n",
       "      <th></th>\n",
       "      <th></th>\n",
       "      <th></th>\n",
       "      <th></th>\n",
       "      <th></th>\n",
       "      <th></th>\n",
       "      <th></th>\n",
       "      <th></th>\n",
       "      <th></th>\n",
       "      <th></th>\n",
       "      <th></th>\n",
       "      <th></th>\n",
       "      <th></th>\n",
       "      <th></th>\n",
       "      <th></th>\n",
       "      <th></th>\n",
       "      <th></th>\n",
       "      <th></th>\n",
       "      <th></th>\n",
       "      <th></th>\n",
       "      <th></th>\n",
       "    </tr>\n",
       "  </thead>\n",
       "  <tbody>\n",
       "    <tr>\n",
       "      <th>04/01/2010</th>\n",
       "      <td>10.193225</td>\n",
       "      <td>37.090000</td>\n",
       "      <td>9.70</td>\n",
       "      <td>24.125000</td>\n",
       "      <td>18.50</td>\n",
       "      <td>313.688690</td>\n",
       "      <td>311.349976</td>\n",
       "      <td>133.899994</td>\n",
       "      <td>4.557168</td>\n",
       "      <td>48.350658</td>\n",
       "      <td>...</td>\n",
       "      <td>21.007998</td>\n",
       "      <td>29.792044</td>\n",
       "      <td>44.240002</td>\n",
       "      <td>30.470020</td>\n",
       "      <td>37.029556</td>\n",
       "      <td>63.170490</td>\n",
       "      <td>NaN</td>\n",
       "      <td>46.595161</td>\n",
       "      <td>14.790739</td>\n",
       "      <td>20.349150</td>\n",
       "    </tr>\n",
       "    <tr>\n",
       "      <th>05/01/2010</th>\n",
       "      <td>10.211267</td>\n",
       "      <td>37.700001</td>\n",
       "      <td>9.71</td>\n",
       "      <td>23.780001</td>\n",
       "      <td>18.01</td>\n",
       "      <td>312.307312</td>\n",
       "      <td>309.978882</td>\n",
       "      <td>134.690002</td>\n",
       "      <td>5.073073</td>\n",
       "      <td>47.931801</td>\n",
       "      <td>...</td>\n",
       "      <td>21.228777</td>\n",
       "      <td>29.991653</td>\n",
       "      <td>42.779999</td>\n",
       "      <td>30.224958</td>\n",
       "      <td>38.011318</td>\n",
       "      <td>63.028927</td>\n",
       "      <td>NaN</td>\n",
       "      <td>49.429043</td>\n",
       "      <td>14.615329</td>\n",
       "      <td>20.092579</td>\n",
       "    </tr>\n",
       "    <tr>\n",
       "      <th>06/01/2010</th>\n",
       "      <td>10.157144</td>\n",
       "      <td>37.619999</td>\n",
       "      <td>9.57</td>\n",
       "      <td>23.840000</td>\n",
       "      <td>17.48</td>\n",
       "      <td>304.434448</td>\n",
       "      <td>302.164703</td>\n",
       "      <td>132.250000</td>\n",
       "      <td>4.862889</td>\n",
       "      <td>47.571617</td>\n",
       "      <td>...</td>\n",
       "      <td>20.999506</td>\n",
       "      <td>30.380898</td>\n",
       "      <td>42.029999</td>\n",
       "      <td>29.996222</td>\n",
       "      <td>38.044056</td>\n",
       "      <td>64.043610</td>\n",
       "      <td>NaN</td>\n",
       "      <td>48.780678</td>\n",
       "      <td>14.643392</td>\n",
       "      <td>19.956280</td>\n",
       "    </tr>\n",
       "    <tr>\n",
       "      <th>07/01/2010</th>\n",
       "      <td>9.913588</td>\n",
       "      <td>36.889999</td>\n",
       "      <td>9.47</td>\n",
       "      <td>23.930000</td>\n",
       "      <td>17.43</td>\n",
       "      <td>297.347351</td>\n",
       "      <td>295.130463</td>\n",
       "      <td>130.000000</td>\n",
       "      <td>5.006195</td>\n",
       "      <td>47.136017</td>\n",
       "      <td>...</td>\n",
       "      <td>20.710794</td>\n",
       "      <td>30.330994</td>\n",
       "      <td>41.500000</td>\n",
       "      <td>30.175928</td>\n",
       "      <td>37.299545</td>\n",
       "      <td>63.854847</td>\n",
       "      <td>NaN</td>\n",
       "      <td>49.822430</td>\n",
       "      <td>14.580243</td>\n",
       "      <td>19.755833</td>\n",
       "    </tr>\n",
       "    <tr>\n",
       "      <th>08/01/2010</th>\n",
       "      <td>9.832404</td>\n",
       "      <td>36.689999</td>\n",
       "      <td>9.43</td>\n",
       "      <td>23.975000</td>\n",
       "      <td>17.66</td>\n",
       "      <td>301.311310</td>\n",
       "      <td>299.064880</td>\n",
       "      <td>133.520004</td>\n",
       "      <td>4.910658</td>\n",
       "      <td>47.554852</td>\n",
       "      <td>...</td>\n",
       "      <td>20.872135</td>\n",
       "      <td>29.941751</td>\n",
       "      <td>40.669998</td>\n",
       "      <td>30.216782</td>\n",
       "      <td>37.487709</td>\n",
       "      <td>63.784065</td>\n",
       "      <td>NaN</td>\n",
       "      <td>49.465473</td>\n",
       "      <td>14.587262</td>\n",
       "      <td>20.044474</td>\n",
       "    </tr>\n",
       "  </tbody>\n",
       "</table>\n",
       "<p>5 rows × 100 columns</p>\n",
       "</div>"
      ],
      "text/plain": [
       "                 ATVI       ADBE   AMD       ALXN   ALGN       GOOGL  \\\n",
       "Date                                                                   \n",
       "04/01/2010  10.193225  37.090000  9.70  24.125000  18.50  313.688690   \n",
       "05/01/2010  10.211267  37.700001  9.71  23.780001  18.01  312.307312   \n",
       "06/01/2010  10.157144  37.619999  9.57  23.840000  17.48  304.434448   \n",
       "07/01/2010   9.913588  36.889999  9.47  23.930000  17.43  297.347351   \n",
       "08/01/2010   9.832404  36.689999  9.43  23.975000  17.66  301.311310   \n",
       "\n",
       "                  GOOG        AMZN       AAL       AMGN    ...           VRSN  \\\n",
       "Date                                                       ...                  \n",
       "04/01/2010  311.349976  133.899994  4.557168  48.350658    ...      21.007998   \n",
       "05/01/2010  309.978882  134.690002  5.073073  47.931801    ...      21.228777   \n",
       "06/01/2010  302.164703  132.250000  4.862889  47.571617    ...      20.999506   \n",
       "07/01/2010  295.130463  130.000000  5.006195  47.136017    ...      20.710794   \n",
       "08/01/2010  299.064880  133.520004  4.910658  47.554852    ...      20.872135   \n",
       "\n",
       "                 VRSK       VRTX        WBA        WDC       WLTW  WDAY  \\\n",
       "Date                                                                      \n",
       "04/01/2010  29.792044  44.240002  30.470020  37.029556  63.170490   NaN   \n",
       "05/01/2010  29.991653  42.779999  30.224958  38.011318  63.028927   NaN   \n",
       "06/01/2010  30.380898  42.029999  29.996222  38.044056  64.043610   NaN   \n",
       "07/01/2010  30.330994  41.500000  30.175928  37.299545  63.854847   NaN   \n",
       "08/01/2010  29.941751  40.669998  30.216782  37.487709  63.784065   NaN   \n",
       "\n",
       "                 WYNN        XEL       XLNX  \n",
       "Date                                         \n",
       "04/01/2010  46.595161  14.790739  20.349150  \n",
       "05/01/2010  49.429043  14.615329  20.092579  \n",
       "06/01/2010  48.780678  14.643392  19.956280  \n",
       "07/01/2010  49.822430  14.580243  19.755833  \n",
       "08/01/2010  49.465473  14.587262  20.044474  \n",
       "\n",
       "[5 rows x 100 columns]"
      ]
     },
     "execution_count": 40,
     "metadata": {},
     "output_type": "execute_result"
    },
    {
     "data": {
      "text/plain": [
       "(2335, 100)"
      ]
     },
     "execution_count": 40,
     "metadata": {},
     "output_type": "execute_result"
    }
   ],
   "source": [
    "# Explore the whole Dataset\n",
    "dataset.head()\n",
    "dataset.shape"
   ]
  },
  {
   "cell_type": "code",
   "execution_count": 41,
   "metadata": {},
   "outputs": [
    {
     "data": {
      "text/html": [
       "<div>\n",
       "<style scoped>\n",
       "    .dataframe tbody tr th:only-of-type {\n",
       "        vertical-align: middle;\n",
       "    }\n",
       "\n",
       "    .dataframe tbody tr th {\n",
       "        vertical-align: top;\n",
       "    }\n",
       "\n",
       "    .dataframe thead th {\n",
       "        text-align: right;\n",
       "    }\n",
       "</style>\n",
       "<table border=\"1\" class=\"dataframe\">\n",
       "  <thead>\n",
       "    <tr style=\"text-align: right;\">\n",
       "      <th></th>\n",
       "      <th>AMZN</th>\n",
       "    </tr>\n",
       "    <tr>\n",
       "      <th>Date</th>\n",
       "      <th></th>\n",
       "    </tr>\n",
       "  </thead>\n",
       "  <tbody>\n",
       "    <tr>\n",
       "      <th>04/01/2010</th>\n",
       "      <td>133.899994</td>\n",
       "    </tr>\n",
       "    <tr>\n",
       "      <th>05/01/2010</th>\n",
       "      <td>134.690002</td>\n",
       "    </tr>\n",
       "    <tr>\n",
       "      <th>06/01/2010</th>\n",
       "      <td>132.250000</td>\n",
       "    </tr>\n",
       "    <tr>\n",
       "      <th>07/01/2010</th>\n",
       "      <td>130.000000</td>\n",
       "    </tr>\n",
       "    <tr>\n",
       "      <th>08/01/2010</th>\n",
       "      <td>133.520004</td>\n",
       "    </tr>\n",
       "  </tbody>\n",
       "</table>\n",
       "</div>"
      ],
      "text/plain": [
       "                  AMZN\n",
       "Date                  \n",
       "04/01/2010  133.899994\n",
       "05/01/2010  134.690002\n",
       "06/01/2010  132.250000\n",
       "07/01/2010  130.000000\n",
       "08/01/2010  133.520004"
      ]
     },
     "execution_count": 41,
     "metadata": {},
     "output_type": "execute_result"
    },
    {
     "data": {
      "text/plain": [
       "(2335, 1)"
      ]
     },
     "execution_count": 41,
     "metadata": {},
     "output_type": "execute_result"
    }
   ],
   "source": [
    "dataset_1 = dataset.iloc[0:, 7:8]\n",
    "dataset_1.head()\n",
    "dataset_1.shape"
   ]
  },
  {
   "cell_type": "markdown",
   "metadata": {},
   "source": [
    "######  DATASET VISUALIZATION"
   ]
  },
  {
   "cell_type": "code",
   "execution_count": 42,
   "metadata": {},
   "outputs": [
    {
     "data": {
      "text/html": [
       "<iframe id=\"igraph\" scrolling=\"no\" style=\"border:none;\" seamless=\"seamless\" src=\"https://plot.ly/~Pamela25/50.embed\" height=\"525px\" width=\"100%\"></iframe>"
      ],
      "text/plain": [
       "<plotly.tools.PlotlyDisplay object>"
      ]
     },
     "execution_count": 42,
     "metadata": {},
     "output_type": "execute_result"
    }
   ],
   "source": [
    "trace_one = go.Scatter(\n",
    "      x = dataset_1.index,\n",
    "      y = dataset_1['AMZN'],\n",
    "   name = \"Amazon AdJ. Close\",\n",
    "   line = dict(color='#17BECF'))\n",
    "\n",
    "data = [trace_one]\n",
    "\n",
    "layout = dict(title = '100 NASDAQ - AMAZON',\n",
    "              xaxis = dict(title = 'Year'),\n",
    "              yaxis = dict(title = 'Adj Close'))\n",
    "\n",
    "fig = dict(data=data, layout=layout)\n",
    "py.iplot(fig)"
   ]
  },
  {
   "cell_type": "code",
   "execution_count": 43,
   "metadata": {},
   "outputs": [],
   "source": [
    "dataset_f = dataset_1.iloc[1258:]"
   ]
  },
  {
   "cell_type": "code",
   "execution_count": 44,
   "metadata": {
    "scrolled": true
   },
   "outputs": [
    {
     "data": {
      "text/html": [
       "<div>\n",
       "<style scoped>\n",
       "    .dataframe tbody tr th:only-of-type {\n",
       "        vertical-align: middle;\n",
       "    }\n",
       "\n",
       "    .dataframe tbody tr th {\n",
       "        vertical-align: top;\n",
       "    }\n",
       "\n",
       "    .dataframe thead th {\n",
       "        text-align: right;\n",
       "    }\n",
       "</style>\n",
       "<table border=\"1\" class=\"dataframe\">\n",
       "  <thead>\n",
       "    <tr style=\"text-align: right;\">\n",
       "      <th></th>\n",
       "      <th>AMZN</th>\n",
       "    </tr>\n",
       "    <tr>\n",
       "      <th>Date</th>\n",
       "      <th></th>\n",
       "    </tr>\n",
       "  </thead>\n",
       "  <tbody>\n",
       "    <tr>\n",
       "      <th>02/01/2015</th>\n",
       "      <td>308.519989</td>\n",
       "    </tr>\n",
       "    <tr>\n",
       "      <th>05/01/2015</th>\n",
       "      <td>302.190002</td>\n",
       "    </tr>\n",
       "    <tr>\n",
       "      <th>06/01/2015</th>\n",
       "      <td>295.290008</td>\n",
       "    </tr>\n",
       "    <tr>\n",
       "      <th>07/01/2015</th>\n",
       "      <td>298.420013</td>\n",
       "    </tr>\n",
       "    <tr>\n",
       "      <th>08/01/2015</th>\n",
       "      <td>300.459992</td>\n",
       "    </tr>\n",
       "  </tbody>\n",
       "</table>\n",
       "</div>"
      ],
      "text/plain": [
       "                  AMZN\n",
       "Date                  \n",
       "02/01/2015  308.519989\n",
       "05/01/2015  302.190002\n",
       "06/01/2015  295.290008\n",
       "07/01/2015  298.420013\n",
       "08/01/2015  300.459992"
      ]
     },
     "execution_count": 44,
     "metadata": {},
     "output_type": "execute_result"
    },
    {
     "data": {
      "text/plain": [
       "(1077, 1)"
      ]
     },
     "execution_count": 44,
     "metadata": {},
     "output_type": "execute_result"
    }
   ],
   "source": [
    "dataset_f.head()\n",
    "dataset_f.shape"
   ]
  },
  {
   "cell_type": "code",
   "execution_count": 45,
   "metadata": {},
   "outputs": [],
   "source": [
    "#Dividing the dataset between training and testing datasets and selecting our target which is \n",
    "training_set = dataset_f.iloc[0:1063]\n",
    "testing_set = dataset_f.iloc [1063:]\n"
   ]
  },
  {
   "cell_type": "code",
   "execution_count": 46,
   "metadata": {},
   "outputs": [
    {
     "data": {
      "text/plain": [
       "pandas.core.frame.DataFrame"
      ]
     },
     "execution_count": 46,
     "metadata": {},
     "output_type": "execute_result"
    },
    {
     "data": {
      "text/plain": [
       "(1063, 1)"
      ]
     },
     "execution_count": 46,
     "metadata": {},
     "output_type": "execute_result"
    },
    {
     "data": {
      "text/html": [
       "<div>\n",
       "<style scoped>\n",
       "    .dataframe tbody tr th:only-of-type {\n",
       "        vertical-align: middle;\n",
       "    }\n",
       "\n",
       "    .dataframe tbody tr th {\n",
       "        vertical-align: top;\n",
       "    }\n",
       "\n",
       "    .dataframe thead th {\n",
       "        text-align: right;\n",
       "    }\n",
       "</style>\n",
       "<table border=\"1\" class=\"dataframe\">\n",
       "  <thead>\n",
       "    <tr style=\"text-align: right;\">\n",
       "      <th></th>\n",
       "      <th>AMZN</th>\n",
       "    </tr>\n",
       "    <tr>\n",
       "      <th>Date</th>\n",
       "      <th></th>\n",
       "    </tr>\n",
       "  </thead>\n",
       "  <tbody>\n",
       "    <tr>\n",
       "      <th>02/01/2015</th>\n",
       "      <td>308.519989</td>\n",
       "    </tr>\n",
       "    <tr>\n",
       "      <th>05/01/2015</th>\n",
       "      <td>302.190002</td>\n",
       "    </tr>\n",
       "    <tr>\n",
       "      <th>06/01/2015</th>\n",
       "      <td>295.290008</td>\n",
       "    </tr>\n",
       "    <tr>\n",
       "      <th>07/01/2015</th>\n",
       "      <td>298.420013</td>\n",
       "    </tr>\n",
       "    <tr>\n",
       "      <th>08/01/2015</th>\n",
       "      <td>300.459992</td>\n",
       "    </tr>\n",
       "  </tbody>\n",
       "</table>\n",
       "</div>"
      ],
      "text/plain": [
       "                  AMZN\n",
       "Date                  \n",
       "02/01/2015  308.519989\n",
       "05/01/2015  302.190002\n",
       "06/01/2015  295.290008\n",
       "07/01/2015  298.420013\n",
       "08/01/2015  300.459992"
      ]
     },
     "execution_count": 46,
     "metadata": {},
     "output_type": "execute_result"
    },
    {
     "data": {
      "text/plain": [
       "<matplotlib.axes._subplots.AxesSubplot at 0x14938208>"
      ]
     },
     "execution_count": 46,
     "metadata": {},
     "output_type": "execute_result"
    },
    {
     "data": {
      "image/png": "[encoded data removed]",
      "text/plain": [
       "<Figure size 432x288 with 1 Axes>"
      ]
     },
     "metadata": {
      "needs_background": "light"
     },
     "output_type": "display_data"
    }
   ],
   "source": [
    "# Exploring 'training_set'\n",
    "type (training_set)\n",
    "training_set.shape\n",
    "training_set.head()\n",
    "training_set.plot()"
   ]
  },
  {
   "cell_type": "code",
   "execution_count": 47,
   "metadata": {},
   "outputs": [
    {
     "data": {
      "text/plain": [
       "pandas.core.frame.DataFrame"
      ]
     },
     "execution_count": 47,
     "metadata": {},
     "output_type": "execute_result"
    },
    {
     "data": {
      "text/plain": [
       "(14, 1)"
      ]
     },
     "execution_count": 47,
     "metadata": {},
     "output_type": "execute_result"
    },
    {
     "data": {
      "text/plain": [
       "14"
      ]
     },
     "execution_count": 47,
     "metadata": {},
     "output_type": "execute_result"
    },
    {
     "data": {
      "text/plain": [
       "<matplotlib.axes._subplots.AxesSubplot at 0x14ace5f8>"
      ]
     },
     "execution_count": 47,
     "metadata": {},
     "output_type": "execute_result"
    },
    {
     "data": {
      "image/png": "[encoded data removed]",
      "text/plain": [
       "<Figure size 432x288 with 1 Axes>"
      ]
     },
     "metadata": {
      "needs_background": "light"
     },
     "output_type": "display_data"
    }
   ],
   "source": [
    "# Exploring'testing_set'\n",
    "type (testing_set)\n",
    "testing_set.shape\n",
    "len(testing_set)\n",
    "testing_set.plot()"
   ]
  },
  {
   "cell_type": "markdown",
   "metadata": {},
   "source": [
    "# # PHASE 4: TRAINING MODEL"
   ]
  },
  {
   "cell_type": "markdown",
   "metadata": {},
   "source": [
    "## DECOMPOSITION\n",
    "### Deconstrucs a time series: Trend, Seasonal, Residual"
   ]
  },
  {
   "cell_type": "code",
   "execution_count": 48,
   "metadata": {},
   "outputs": [
    {
     "data": {
      "image/png": "[encoded data removed]",
      "text/plain": [
       "<Figure size 1080x576 with 4 Axes>"
      ]
     },
     "metadata": {
      "needs_background": "light"
     },
     "output_type": "display_data"
    }
   ],
   "source": [
    "from statsmodels.tsa.seasonal import seasonal_decompose\n",
    "\n",
    "dataset_f.index = pd.to_datetime(dataset_f.index)\n",
    "result = seasonal_decompose(dataset_f, freq=20)\n",
    "fig = result.plot()\n",
    "fig.set_size_inches(15,8)\n"
   ]
  },
  {
   "cell_type": "markdown",
   "metadata": {},
   "source": [
    "##  BUILDING THE MODEL"
   ]
  },
  {
   "cell_type": "code",
   "execution_count": 49,
   "metadata": {},
   "outputs": [
    {
     "name": "stdout",
     "output_type": "stream",
     "text": [
      "Fit ARIMA: order=(1, 1, 1) seasonal_order=(0, 1, 0, 12); AIC=10164.361, BIC=10184.187, Fit time=1.607 seconds\n",
      "Fit ARIMA: order=(0, 1, 0) seasonal_order=(0, 1, 0, 12); AIC=10161.949, BIC=10171.863, Fit time=0.179 seconds\n",
      "Fit ARIMA: order=(1, 1, 0) seasonal_order=(1, 1, 0, 12); AIC=9912.891, BIC=9932.717, Fit time=3.488 seconds\n",
      "Fit ARIMA: order=(0, 1, 1) seasonal_order=(0, 1, 1, 12); AIC=9504.894, BIC=9524.720, Fit time=5.216 seconds\n",
      "Fit ARIMA: order=(0, 1, 1) seasonal_order=(1, 1, 1, 12); AIC=9506.670, BIC=9531.452, Fit time=6.531 seconds\n",
      "Fit ARIMA: order=(0, 1, 1) seasonal_order=(0, 1, 0, 12); AIC=10162.978, BIC=10177.848, Fit time=0.458 seconds\n",
      "Fit ARIMA: order=(0, 1, 1) seasonal_order=(0, 1, 2, 12); AIC=9506.610, BIC=9531.392, Fit time=43.173 seconds\n",
      "Fit ARIMA: order=(0, 1, 1) seasonal_order=(1, 1, 2, 12); AIC=9508.853, BIC=9538.592, Fit time=19.991 seconds\n",
      "Fit ARIMA: order=(1, 1, 1) seasonal_order=(0, 1, 1, 12); AIC=9504.544, BIC=9529.326, Fit time=10.069 seconds\n",
      "Fit ARIMA: order=(1, 1, 0) seasonal_order=(0, 1, 1, 12); AIC=9504.962, BIC=9524.789, Fit time=3.947 seconds\n",
      "Fit ARIMA: order=(1, 1, 2) seasonal_order=(0, 1, 1, 12); AIC=9505.224, BIC=9534.964, Fit time=15.544 seconds\n",
      "Fit ARIMA: order=(0, 1, 0) seasonal_order=(0, 1, 1, 12); AIC=9503.559, BIC=9518.429, Fit time=6.263 seconds\n",
      "Fit ARIMA: order=(0, 1, 0) seasonal_order=(1, 1, 1, 12); AIC=9505.433, BIC=9525.260, Fit time=4.353 seconds\n",
      "Fit ARIMA: order=(0, 1, 0) seasonal_order=(0, 1, 2, 12); AIC=9505.306, BIC=9525.132, Fit time=26.295 seconds\n",
      "Fit ARIMA: order=(0, 1, 0) seasonal_order=(1, 1, 2, 12); AIC=9502.529, BIC=9527.311, Fit time=42.589 seconds\n",
      "Fit ARIMA: order=(1, 1, 0) seasonal_order=(1, 1, 2, 12); AIC=9508.908, BIC=9538.647, Fit time=19.978 seconds\n",
      "Fit ARIMA: order=(1, 1, 1) seasonal_order=(1, 1, 2, 12); AIC=9503.385, BIC=9538.080, Fit time=76.328 seconds\n",
      "Fit ARIMA: order=(0, 1, 0) seasonal_order=(2, 1, 2, 12); AIC=9509.302, BIC=9539.041, Fit time=23.297 seconds\n",
      "Total fit time: 309.343 seconds\n"
     ]
    }
   ],
   "source": [
    "Arima_model = auto_arima(training_set, start_p=1, start_q=1,max_p=3, max_q=3, m=12,start_P=0,start_Q=0, seasonal=True,d=1, D=1,\n",
    "                         trace=True, error_action='ignore',suppress_warnings=True, \n",
    "                         )\n"
   ]
  },
  {
   "cell_type": "code",
   "execution_count": 57,
   "metadata": {},
   "outputs": [
    {
     "name": "stdout",
     "output_type": "stream",
     "text": [
      "9502.52863360003\n"
     ]
    }
   ],
   "source": [
    "print(Arima_model.aic())"
   ]
  },
  {
   "cell_type": "code",
   "execution_count": 58,
   "metadata": {},
   "outputs": [
    {
     "name": "stdout",
     "output_type": "stream",
     "text": [
      "                                 Statespace Model Results                                 \n",
      "==========================================================================================\n",
      "Dep. Variable:                                  y   No. Observations:                 1063\n",
      "Model:             SARIMAX(0, 1, 0)x(1, 1, 2, 12)   Log Likelihood               -4746.264\n",
      "Date:                            Sun, 09 Jun 2019   AIC                           9502.529\n",
      "Time:                                    23:07:16   BIC                           9527.311\n",
      "Sample:                                         0   HQIC                          9511.925\n",
      "                                           - 1063                                         \n",
      "Covariance Type:                              opg                                         \n",
      "==============================================================================\n",
      "                 coef    std err          z      P>|z|      [0.025      0.975]\n",
      "------------------------------------------------------------------------------\n",
      "intercept      0.0131      0.033      0.393      0.694      -0.052       0.078\n",
      "ar.S.L12      -0.7097      0.166     -4.265      0.000      -1.036      -0.384\n",
      "ma.S.L12      -0.2370      0.181     -1.309      0.191      -0.592       0.118\n",
      "ma.S.L24      -0.7569      0.155     -4.874      0.000      -1.061      -0.453\n",
      "sigma2       471.1465     27.146     17.356      0.000     417.942     524.351\n",
      "===================================================================================\n",
      "Ljung-Box (Q):                       92.01   Jarque-Bera (JB):              3469.38\n",
      "Prob(Q):                              0.00   Prob(JB):                         0.00\n",
      "Heteroskedasticity (H):               8.63   Skew:                            -0.22\n",
      "Prob(H) (two-sided):                  0.00   Kurtosis:                        11.89\n",
      "===================================================================================\n",
      "\n",
      "Warnings:\n",
      "[1] Covariance matrix calculated using the outer product of gradients (complex-step).\n"
     ]
    }
   ],
   "source": [
    "print(Arima_model.summary())\n"
   ]
  },
  {
   "cell_type": "code",
   "execution_count": 59,
   "metadata": {},
   "outputs": [
    {
     "data": {
      "text/plain": [
       "ARIMA(callback=None, disp=0, maxiter=50, method=None, order=(0, 1, 0),\n",
       "   out_of_sample_size=0, scoring='mse', scoring_args={},\n",
       "   seasonal_order=(1, 1, 2, 12), solver='lbfgs', start_params=None,\n",
       "   suppress_warnings=True, transparams=True, trend='c')"
      ]
     },
     "execution_count": 59,
     "metadata": {},
     "output_type": "execute_result"
    }
   ],
   "source": [
    "# Fitting the model\n",
    "Arima_model.fit(training_set)"
   ]
  },
  {
   "cell_type": "markdown",
   "metadata": {},
   "source": [
    "# # PHASE 5: TESTING AND EVALUATION\n",
    "## FORECASTING"
   ]
  },
  {
   "cell_type": "code",
   "execution_count": 60,
   "metadata": {},
   "outputs": [
    {
     "data": {
      "text/plain": [
       "numpy.ndarray"
      ]
     },
     "execution_count": 60,
     "metadata": {},
     "output_type": "execute_result"
    },
    {
     "data": {
      "text/plain": [
       "pandas.core.frame.DataFrame"
      ]
     },
     "execution_count": 60,
     "metadata": {},
     "output_type": "execute_result"
    }
   ],
   "source": [
    "forecasting = Arima_model.predict(n_periods=len(testing_set))\n",
    "type(forecasting)\n",
    "\n",
    "#Converting numpy array to DataFrame in order to plot in the next step \n",
    "forecasting = pd.DataFrame(forecasting, index = testing_set.index,columns=['Prediction'])\n",
    "type(forecasting)\n",
    "#forecast = pd.DataFrame(forecast,columns=['Prediction'])"
   ]
  },
  {
   "cell_type": "markdown",
   "metadata": {},
   "source": [
    "###### PREDICTION VISUALIZATION"
   ]
  },
  {
   "cell_type": "code",
   "execution_count": 61,
   "metadata": {},
   "outputs": [
    {
     "data": {
      "text/html": [
       "<iframe id=\"igraph\" scrolling=\"no\" style=\"border:none;\" seamless=\"seamless\" src=\"https://plot.ly/~Pamela25/6.embed\" height=\"525px\" width=\"100%\"></iframe>"
      ],
      "text/plain": [
       "<plotly.tools.PlotlyDisplay object>"
      ]
     },
     "execution_count": 61,
     "metadata": {},
     "output_type": "execute_result"
    }
   ],
   "source": [
    "#plot and compare the prediction\n",
    "trace_1 = go.Scatter(x = training_set.index, y=training_set, mode = 'lines', name ='Training')\n",
    "trace_2 = go.Scatter(x = testing_set.index, y=testing_set, mode = 'lines', name = 'Testing')\n",
    "trace_3 = go.Scatter(x = testing_set.index, y=forecasting, mode = 'lines', name = 'Prediction')\n",
    "\n",
    "data = [trace_1, trace_2, trace_3]\n",
    "layout = dict(title = 'Amazon Stock Market Prediction',\n",
    "              xaxis = dict(title = 'Date'),\n",
    "              yaxis = dict(title = 'Adj Close'),\n",
    "              )\n",
    "fig = dict(data=data, layout=layout)\n",
    "py.iplot(fig, filename='ARIMA7')"
   ]
  },
  {
   "cell_type": "code",
   "execution_count": 62,
   "metadata": {},
   "outputs": [
    {
     "data": {
      "text/html": [
       "<iframe id=\"igraph\" scrolling=\"no\" style=\"border:none;\" seamless=\"seamless\" src=\"https://plot.ly/~Pamela25/6.embed\" height=\"525px\" width=\"100%\"></iframe>"
      ],
      "text/plain": [
       "<plotly.tools.PlotlyDisplay object>"
      ]
     },
     "execution_count": 62,
     "metadata": {},
     "output_type": "execute_result"
    }
   ],
   "source": [
    "# Visualising just the prediction\n",
    "\n",
    "#plot and compare the predictions\n",
    "trace_testing = go.Scatter(x = testing_set.index, y=testing_set, mode = 'lines', name = 'Real Amazon Stock Price')\n",
    "trace_forecasting = go.Scatter(x = testing_set.index, y=forecasting, mode = 'lines', name = 'Predicted Amazon Stock Price')\n",
    "\n",
    "data = [trace_testing, trace_forecasting]\n",
    "layout = dict(title = 'Amazon Stock Market Prediction',\n",
    "              xaxis = dict(title = 'Date'),\n",
    "              yaxis = dict(title = 'Adj Close'),\n",
    "              )\n",
    "fig = dict(data=data, layout=layout)\n",
    "py.iplot(fig, filename='ARIMA7')\n",
    "\n"
   ]
  },
  {
   "cell_type": "code",
   "execution_count": 63,
   "metadata": {},
   "outputs": [
    {
     "name": "stdout",
     "output_type": "stream",
     "text": [
      "30.363346985927723\n"
     ]
    }
   ],
   "source": [
    "\n",
    "rmse = sqrt(mean_squared_error(testing_set,forecasting))\n",
    "print(rmse)\n",
    "\n"
   ]
  },
  {
   "cell_type": "code",
   "execution_count": null,
   "metadata": {},
   "outputs": [],
   "source": []
  }
 ],
 "metadata": {
  "kernelspec": {
   "display_name": "Python 3",
   "language": "python",
   "name": "python3"
  },
  "language_info": {
   "codemirror_mode": {
    "name": "ipython",
    "version": 3
   },
   "file_extension": ".py",
   "mimetype": "text/x-python",
   "name": "python",
   "nbconvert_exporter": "python",
   "pygments_lexer": "ipython3",
   "version": "3.5.6"
  }
 },
 "nbformat": 4,
 "nbformat_minor": 2
}
