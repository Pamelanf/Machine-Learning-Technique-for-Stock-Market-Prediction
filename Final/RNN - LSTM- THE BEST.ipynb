{
 "cells": [
  {
   "cell_type": "markdown",
   "metadata": {
    "colab_type": "text",
    "id": "XnMFdhV29duL"
   },
   "source": [
    "#     RECURRENT NEURAL NETWORK ' LSTM ' MODEL"
   ]
  },
  {
   "cell_type": "markdown",
   "metadata": {
    "colab_type": "text",
    "id": "Q7gdUqd19duN"
   },
   "source": [
    "## PART I: DATA PRE - PROCESSING"
   ]
  },
  {
   "cell_type": "code",
   "execution_count": 1,
   "metadata": {
    "colab": {},
    "colab_type": "code",
    "id": "DuLGt5HI9duP"
   },
   "outputs": [],
   "source": [
    "from IPython.core.interactiveshell import InteractiveShell\n",
    "InteractiveShell.ast_node_interactivity = \"all\""
   ]
  },
  {
   "cell_type": "code",
   "execution_count": 2,
   "metadata": {
    "colab": {
     "base_uri": "https://localhost:8080/",
     "height": 34
    },
    "colab_type": "code",
    "executionInfo": {
     "elapsed": 4780,
     "status": "ok",
     "timestamp": 1559649648687,
     "user": {
      "displayName": "Pamela Nina",
      "photoUrl": "",
      "userId": "11602827977728219610"
     },
     "user_tz": -60
    },
    "id": "Jvj7ALCc9duX",
    "outputId": "1685a6ba-1693-435c-ce38-831a6e0c51d5"
   },
   "outputs": [
    {
     "name": "stderr",
     "output_type": "stream",
     "text": [
      "Using TensorFlow backend.\n"
     ]
    }
   ],
   "source": [
    "# importing libraries\n",
    "import numpy as np \n",
    "import matplotlib.pyplot as plt\n",
    "import pandas as pd\n",
    "\n",
    "#Importing the Keras libraries and packages\n",
    "from keras.models import Sequential\n",
    "from keras.layers import Dense\n",
    "from keras.layers import LSTM\n",
    "from keras.layers import Dropout\n",
    "from keras.layers import Activation\n",
    "import time\n",
    "\n",
    "#Plotly\n",
    "import plotly.plotly as py\n",
    "import plotly.graph_objs as go\n",
    "import plotly\n",
    "plotly.tools.set_credentials_file(username='Pamela25', api_key='NUbHbkegzXVRKvSlLjqE')\n",
    "\n",
    "#calculate rmse\n",
    "from math import sqrt\n",
    "from sklearn.metrics import mean_squared_error\n",
    "\n"
   ]
  },
  {
   "cell_type": "code",
   "execution_count": 3,
   "metadata": {
    "colab": {},
    "colab_type": "code",
    "id": "I2axVhHb9dub"
   },
   "outputs": [],
   "source": [
    "# Loading the whole dataset and setting Date column as an index\n",
    "\n",
    "dataset = pd.read_csv(r'C:\\Users\\Pamela\\Desktop\\PROJECT\\DATASET NASDAQ 100\\nasdaq100_joined_closes.csv', index_col=0)"
   ]
  },
  {
   "cell_type": "code",
   "execution_count": 4,
   "metadata": {
    "colab": {
     "base_uri": "https://localhost:8080/",
     "height": 252
    },
    "colab_type": "code",
    "executionInfo": {
     "elapsed": 800,
     "status": "ok",
     "timestamp": 1559649661851,
     "user": {
      "displayName": "Pamela Nina",
      "photoUrl": "",
      "userId": "11602827977728219610"
     },
     "user_tz": -60
    },
    "id": "BI4OtOlz9dug",
    "outputId": "107c2c20-94d0-4068-84a9-647facad1caf"
   },
   "outputs": [
    {
     "data": {
      "text/html": [
       "<div>\n",
       "<style scoped>\n",
       "    .dataframe tbody tr th:only-of-type {\n",
       "        vertical-align: middle;\n",
       "    }\n",
       "\n",
       "    .dataframe tbody tr th {\n",
       "        vertical-align: top;\n",
       "    }\n",
       "\n",
       "    .dataframe thead th {\n",
       "        text-align: right;\n",
       "    }\n",
       "</style>\n",
       "<table border=\"1\" class=\"dataframe\">\n",
       "  <thead>\n",
       "    <tr style=\"text-align: right;\">\n",
       "      <th></th>\n",
       "      <th>ATVI</th>\n",
       "      <th>ADBE</th>\n",
       "      <th>AMD</th>\n",
       "      <th>ALXN</th>\n",
       "      <th>ALGN</th>\n",
       "      <th>GOOGL</th>\n",
       "      <th>GOOG</th>\n",
       "      <th>AMZN</th>\n",
       "      <th>AAL</th>\n",
       "      <th>AMGN</th>\n",
       "      <th>...</th>\n",
       "      <th>VRSN</th>\n",
       "      <th>VRSK</th>\n",
       "      <th>VRTX</th>\n",
       "      <th>WBA</th>\n",
       "      <th>WDC</th>\n",
       "      <th>WLTW</th>\n",
       "      <th>WDAY</th>\n",
       "      <th>WYNN</th>\n",
       "      <th>XEL</th>\n",
       "      <th>XLNX</th>\n",
       "    </tr>\n",
       "    <tr>\n",
       "      <th>Date</th>\n",
       "      <th></th>\n",
       "      <th></th>\n",
       "      <th></th>\n",
       "      <th></th>\n",
       "      <th></th>\n",
       "      <th></th>\n",
       "      <th></th>\n",
       "      <th></th>\n",
       "      <th></th>\n",
       "      <th></th>\n",
       "      <th></th>\n",
       "      <th></th>\n",
       "      <th></th>\n",
       "      <th></th>\n",
       "      <th></th>\n",
       "      <th></th>\n",
       "      <th></th>\n",
       "      <th></th>\n",
       "      <th></th>\n",
       "      <th></th>\n",
       "      <th></th>\n",
       "    </tr>\n",
       "  </thead>\n",
       "  <tbody>\n",
       "    <tr>\n",
       "      <th>04/01/2010</th>\n",
       "      <td>10.193225</td>\n",
       "      <td>37.090000</td>\n",
       "      <td>9.70</td>\n",
       "      <td>24.125000</td>\n",
       "      <td>18.50</td>\n",
       "      <td>313.688690</td>\n",
       "      <td>311.349976</td>\n",
       "      <td>133.899994</td>\n",
       "      <td>4.557168</td>\n",
       "      <td>48.350658</td>\n",
       "      <td>...</td>\n",
       "      <td>21.007998</td>\n",
       "      <td>29.792044</td>\n",
       "      <td>44.240002</td>\n",
       "      <td>30.470020</td>\n",
       "      <td>37.029556</td>\n",
       "      <td>63.170490</td>\n",
       "      <td>NaN</td>\n",
       "      <td>46.595161</td>\n",
       "      <td>14.790739</td>\n",
       "      <td>20.349150</td>\n",
       "    </tr>\n",
       "    <tr>\n",
       "      <th>05/01/2010</th>\n",
       "      <td>10.211267</td>\n",
       "      <td>37.700001</td>\n",
       "      <td>9.71</td>\n",
       "      <td>23.780001</td>\n",
       "      <td>18.01</td>\n",
       "      <td>312.307312</td>\n",
       "      <td>309.978882</td>\n",
       "      <td>134.690002</td>\n",
       "      <td>5.073073</td>\n",
       "      <td>47.931801</td>\n",
       "      <td>...</td>\n",
       "      <td>21.228777</td>\n",
       "      <td>29.991653</td>\n",
       "      <td>42.779999</td>\n",
       "      <td>30.224958</td>\n",
       "      <td>38.011318</td>\n",
       "      <td>63.028927</td>\n",
       "      <td>NaN</td>\n",
       "      <td>49.429043</td>\n",
       "      <td>14.615329</td>\n",
       "      <td>20.092579</td>\n",
       "    </tr>\n",
       "    <tr>\n",
       "      <th>06/01/2010</th>\n",
       "      <td>10.157144</td>\n",
       "      <td>37.619999</td>\n",
       "      <td>9.57</td>\n",
       "      <td>23.840000</td>\n",
       "      <td>17.48</td>\n",
       "      <td>304.434448</td>\n",
       "      <td>302.164703</td>\n",
       "      <td>132.250000</td>\n",
       "      <td>4.862889</td>\n",
       "      <td>47.571617</td>\n",
       "      <td>...</td>\n",
       "      <td>20.999506</td>\n",
       "      <td>30.380898</td>\n",
       "      <td>42.029999</td>\n",
       "      <td>29.996222</td>\n",
       "      <td>38.044056</td>\n",
       "      <td>64.043610</td>\n",
       "      <td>NaN</td>\n",
       "      <td>48.780678</td>\n",
       "      <td>14.643392</td>\n",
       "      <td>19.956280</td>\n",
       "    </tr>\n",
       "    <tr>\n",
       "      <th>07/01/2010</th>\n",
       "      <td>9.913588</td>\n",
       "      <td>36.889999</td>\n",
       "      <td>9.47</td>\n",
       "      <td>23.930000</td>\n",
       "      <td>17.43</td>\n",
       "      <td>297.347351</td>\n",
       "      <td>295.130463</td>\n",
       "      <td>130.000000</td>\n",
       "      <td>5.006195</td>\n",
       "      <td>47.136017</td>\n",
       "      <td>...</td>\n",
       "      <td>20.710794</td>\n",
       "      <td>30.330994</td>\n",
       "      <td>41.500000</td>\n",
       "      <td>30.175928</td>\n",
       "      <td>37.299545</td>\n",
       "      <td>63.854847</td>\n",
       "      <td>NaN</td>\n",
       "      <td>49.822430</td>\n",
       "      <td>14.580243</td>\n",
       "      <td>19.755833</td>\n",
       "    </tr>\n",
       "    <tr>\n",
       "      <th>08/01/2010</th>\n",
       "      <td>9.832404</td>\n",
       "      <td>36.689999</td>\n",
       "      <td>9.43</td>\n",
       "      <td>23.975000</td>\n",
       "      <td>17.66</td>\n",
       "      <td>301.311310</td>\n",
       "      <td>299.064880</td>\n",
       "      <td>133.520004</td>\n",
       "      <td>4.910658</td>\n",
       "      <td>47.554852</td>\n",
       "      <td>...</td>\n",
       "      <td>20.872135</td>\n",
       "      <td>29.941751</td>\n",
       "      <td>40.669998</td>\n",
       "      <td>30.216782</td>\n",
       "      <td>37.487709</td>\n",
       "      <td>63.784065</td>\n",
       "      <td>NaN</td>\n",
       "      <td>49.465473</td>\n",
       "      <td>14.587262</td>\n",
       "      <td>20.044474</td>\n",
       "    </tr>\n",
       "  </tbody>\n",
       "</table>\n",
       "<p>5 rows × 100 columns</p>\n",
       "</div>"
      ],
      "text/plain": [
       "                 ATVI       ADBE   AMD       ALXN   ALGN       GOOGL  \\\n",
       "Date                                                                   \n",
       "04/01/2010  10.193225  37.090000  9.70  24.125000  18.50  313.688690   \n",
       "05/01/2010  10.211267  37.700001  9.71  23.780001  18.01  312.307312   \n",
       "06/01/2010  10.157144  37.619999  9.57  23.840000  17.48  304.434448   \n",
       "07/01/2010   9.913588  36.889999  9.47  23.930000  17.43  297.347351   \n",
       "08/01/2010   9.832404  36.689999  9.43  23.975000  17.66  301.311310   \n",
       "\n",
       "                  GOOG        AMZN       AAL       AMGN    ...           VRSN  \\\n",
       "Date                                                       ...                  \n",
       "04/01/2010  311.349976  133.899994  4.557168  48.350658    ...      21.007998   \n",
       "05/01/2010  309.978882  134.690002  5.073073  47.931801    ...      21.228777   \n",
       "06/01/2010  302.164703  132.250000  4.862889  47.571617    ...      20.999506   \n",
       "07/01/2010  295.130463  130.000000  5.006195  47.136017    ...      20.710794   \n",
       "08/01/2010  299.064880  133.520004  4.910658  47.554852    ...      20.872135   \n",
       "\n",
       "                 VRSK       VRTX        WBA        WDC       WLTW  WDAY  \\\n",
       "Date                                                                      \n",
       "04/01/2010  29.792044  44.240002  30.470020  37.029556  63.170490   NaN   \n",
       "05/01/2010  29.991653  42.779999  30.224958  38.011318  63.028927   NaN   \n",
       "06/01/2010  30.380898  42.029999  29.996222  38.044056  64.043610   NaN   \n",
       "07/01/2010  30.330994  41.500000  30.175928  37.299545  63.854847   NaN   \n",
       "08/01/2010  29.941751  40.669998  30.216782  37.487709  63.784065   NaN   \n",
       "\n",
       "                 WYNN        XEL       XLNX  \n",
       "Date                                         \n",
       "04/01/2010  46.595161  14.790739  20.349150  \n",
       "05/01/2010  49.429043  14.615329  20.092579  \n",
       "06/01/2010  48.780678  14.643392  19.956280  \n",
       "07/01/2010  49.822430  14.580243  19.755833  \n",
       "08/01/2010  49.465473  14.587262  20.044474  \n",
       "\n",
       "[5 rows x 100 columns]"
      ]
     },
     "execution_count": 4,
     "metadata": {},
     "output_type": "execute_result"
    },
    {
     "data": {
      "text/plain": [
       "(2335, 100)"
      ]
     },
     "execution_count": 4,
     "metadata": {},
     "output_type": "execute_result"
    }
   ],
   "source": [
    "# To check the the dataset from what 'date' to 'date\n",
    "dataset.head()\n",
    "dataset.shape"
   ]
  },
  {
   "cell_type": "markdown",
   "metadata": {},
   "source": [
    "### Selecting of company :"
   ]
  },
  {
   "cell_type": "code",
   "execution_count": 5,
   "metadata": {},
   "outputs": [
    {
     "data": {
      "text/html": [
       "<div>\n",
       "<style scoped>\n",
       "    .dataframe tbody tr th:only-of-type {\n",
       "        vertical-align: middle;\n",
       "    }\n",
       "\n",
       "    .dataframe tbody tr th {\n",
       "        vertical-align: top;\n",
       "    }\n",
       "\n",
       "    .dataframe thead th {\n",
       "        text-align: right;\n",
       "    }\n",
       "</style>\n",
       "<table border=\"1\" class=\"dataframe\">\n",
       "  <thead>\n",
       "    <tr style=\"text-align: right;\">\n",
       "      <th></th>\n",
       "      <th>AMZN</th>\n",
       "    </tr>\n",
       "    <tr>\n",
       "      <th>Date</th>\n",
       "      <th></th>\n",
       "    </tr>\n",
       "  </thead>\n",
       "  <tbody>\n",
       "    <tr>\n",
       "      <th>04/01/2010</th>\n",
       "      <td>133.899994</td>\n",
       "    </tr>\n",
       "    <tr>\n",
       "      <th>05/01/2010</th>\n",
       "      <td>134.690002</td>\n",
       "    </tr>\n",
       "    <tr>\n",
       "      <th>06/01/2010</th>\n",
       "      <td>132.250000</td>\n",
       "    </tr>\n",
       "    <tr>\n",
       "      <th>07/01/2010</th>\n",
       "      <td>130.000000</td>\n",
       "    </tr>\n",
       "    <tr>\n",
       "      <th>08/01/2010</th>\n",
       "      <td>133.520004</td>\n",
       "    </tr>\n",
       "  </tbody>\n",
       "</table>\n",
       "</div>"
      ],
      "text/plain": [
       "                  AMZN\n",
       "Date                  \n",
       "04/01/2010  133.899994\n",
       "05/01/2010  134.690002\n",
       "06/01/2010  132.250000\n",
       "07/01/2010  130.000000\n",
       "08/01/2010  133.520004"
      ]
     },
     "execution_count": 5,
     "metadata": {},
     "output_type": "execute_result"
    },
    {
     "data": {
      "text/plain": [
       "(2335, 1)"
      ]
     },
     "execution_count": 5,
     "metadata": {},
     "output_type": "execute_result"
    }
   ],
   "source": [
    "# In this case study Amazon 'AMZN' company is selected: \n",
    "\n",
    "dataset_1 = dataset.iloc[0:,7:8]\n",
    "dataset_1.head()\n",
    "dataset_1.shape"
   ]
  },
  {
   "cell_type": "markdown",
   "metadata": {
    "colab_type": "text",
    "id": "to7oZh1g9dur"
   },
   "source": [
    "###### DATASET VISUALIZATION"
   ]
  },
  {
   "cell_type": "code",
   "execution_count": 6,
   "metadata": {
    "colab": {
     "base_uri": "https://localhost:8080/",
     "height": 546
    },
    "colab_type": "code",
    "executionInfo": {
     "elapsed": 5569,
     "status": "ok",
     "timestamp": 1559649673714,
     "user": {
      "displayName": "Pamela Nina",
      "photoUrl": "",
      "userId": "11602827977728219610"
     },
     "user_tz": -60
    },
    "id": "wrG2daDO9dus",
    "outputId": "6a0f185e-3188-4c95-c12e-bfeee0b46ad6"
   },
   "outputs": [
    {
     "data": {
      "text/html": [
       "<iframe id=\"igraph\" scrolling=\"no\" style=\"border:none;\" seamless=\"seamless\" src=\"https://plot.ly/~Pamela25/12.embed\" height=\"525px\" width=\"100%\"></iframe>"
      ],
      "text/plain": [
       "<plotly.tools.PlotlyDisplay object>"
      ]
     },
     "execution_count": 6,
     "metadata": {},
     "output_type": "execute_result"
    }
   ],
   "source": [
    "trace_one = go.Scatter(\n",
    "      x = dataset_1.index,\n",
    "      y = dataset_1['AMZN'],\n",
    "   name = \"Amazon Adj Close\",\n",
    "   line = dict(color='#17BECF'))\n",
    "\n",
    "data = [trace_one]\n",
    "\n",
    "layout = dict(title = 'NASQA100 - AMAZON',\n",
    "              xaxis = dict(title = 'Year'),\n",
    "              yaxis = dict(title = 'Adj Close'))\n",
    "\n",
    "fig = dict(data=data, layout=layout)\n",
    "py.iplot(fig, filename = 'LSTM')"
   ]
  },
  {
   "cell_type": "markdown",
   "metadata": {},
   "source": [
    "### Final dataset from 2015"
   ]
  },
  {
   "cell_type": "code",
   "execution_count": 7,
   "metadata": {},
   "outputs": [],
   "source": [
    "dataset_f = dataset_1.iloc[1258:]"
   ]
  },
  {
   "cell_type": "code",
   "execution_count": 8,
   "metadata": {},
   "outputs": [
    {
     "data": {
      "text/html": [
       "<div>\n",
       "<style scoped>\n",
       "    .dataframe tbody tr th:only-of-type {\n",
       "        vertical-align: middle;\n",
       "    }\n",
       "\n",
       "    .dataframe tbody tr th {\n",
       "        vertical-align: top;\n",
       "    }\n",
       "\n",
       "    .dataframe thead th {\n",
       "        text-align: right;\n",
       "    }\n",
       "</style>\n",
       "<table border=\"1\" class=\"dataframe\">\n",
       "  <thead>\n",
       "    <tr style=\"text-align: right;\">\n",
       "      <th></th>\n",
       "      <th>AMZN</th>\n",
       "    </tr>\n",
       "    <tr>\n",
       "      <th>Date</th>\n",
       "      <th></th>\n",
       "    </tr>\n",
       "  </thead>\n",
       "  <tbody>\n",
       "    <tr>\n",
       "      <th>02/01/2015</th>\n",
       "      <td>308.519989</td>\n",
       "    </tr>\n",
       "    <tr>\n",
       "      <th>05/01/2015</th>\n",
       "      <td>302.190002</td>\n",
       "    </tr>\n",
       "    <tr>\n",
       "      <th>06/01/2015</th>\n",
       "      <td>295.290008</td>\n",
       "    </tr>\n",
       "    <tr>\n",
       "      <th>07/01/2015</th>\n",
       "      <td>298.420013</td>\n",
       "    </tr>\n",
       "    <tr>\n",
       "      <th>08/01/2015</th>\n",
       "      <td>300.459992</td>\n",
       "    </tr>\n",
       "  </tbody>\n",
       "</table>\n",
       "</div>"
      ],
      "text/plain": [
       "                  AMZN\n",
       "Date                  \n",
       "02/01/2015  308.519989\n",
       "05/01/2015  302.190002\n",
       "06/01/2015  295.290008\n",
       "07/01/2015  298.420013\n",
       "08/01/2015  300.459992"
      ]
     },
     "execution_count": 8,
     "metadata": {},
     "output_type": "execute_result"
    },
    {
     "data": {
      "text/plain": [
       "(1077, 1)"
      ]
     },
     "execution_count": 8,
     "metadata": {},
     "output_type": "execute_result"
    }
   ],
   "source": [
    "dataset_f.head()\n",
    "dataset_f.shape"
   ]
  },
  {
   "cell_type": "code",
   "execution_count": 9,
   "metadata": {
    "colab": {},
    "colab_type": "code",
    "id": "-zUcpnoT9duz"
   },
   "outputs": [],
   "source": [
    "#Dividing the dataset between training and testing datasets and selecting our target which is \n",
    "\n",
    "training_set = dataset_f.iloc[0:1063].values\n",
    "testing_set = dataset_f.iloc [1063: ].values\n"
   ]
  },
  {
   "cell_type": "code",
   "execution_count": 10,
   "metadata": {
    "colab": {
     "base_uri": "https://localhost:8080/",
     "height": 34
    },
    "colab_type": "code",
    "executionInfo": {
     "elapsed": 868,
     "status": "ok",
     "timestamp": 1559649692418,
     "user": {
      "displayName": "Pamela Nina",
      "photoUrl": "",
      "userId": "11602827977728219610"
     },
     "user_tz": -60
    },
    "id": "6M4_cmiN9du4",
    "outputId": "2ccc4b25-2dbf-4a3b-9e00-12336994ee06"
   },
   "outputs": [
    {
     "data": {
      "text/plain": [
       "numpy.ndarray"
      ]
     },
     "execution_count": 10,
     "metadata": {},
     "output_type": "execute_result"
    },
    {
     "data": {
      "text/plain": [
       "(1063, 1)"
      ]
     },
     "execution_count": 10,
     "metadata": {},
     "output_type": "execute_result"
    }
   ],
   "source": [
    "# Exploring and exporting 'training_set'\n",
    "type (training_set)\n",
    "training_set.shape\n",
    "#training_set."
   ]
  },
  {
   "cell_type": "code",
   "execution_count": 11,
   "metadata": {
    "colab": {
     "base_uri": "https://localhost:8080/",
     "height": 867
    },
    "colab_type": "code",
    "executionInfo": {
     "elapsed": 1388,
     "status": "ok",
     "timestamp": 1559649701700,
     "user": {
      "displayName": "Pamela Nina",
      "photoUrl": "",
      "userId": "11602827977728219610"
     },
     "user_tz": -60
    },
    "id": "-9eFi8XR9du-",
    "outputId": "064af035-b0c8-4c16-9f73-b7ee87a29b5b"
   },
   "outputs": [
    {
     "data": {
      "text/plain": [
       "numpy.ndarray"
      ]
     },
     "execution_count": 11,
     "metadata": {},
     "output_type": "execute_result"
    },
    {
     "data": {
      "text/plain": [
       "(14, 1)"
      ]
     },
     "execution_count": 11,
     "metadata": {},
     "output_type": "execute_result"
    },
    {
     "data": {
      "text/plain": [
       "array([[1783.76001 ],\n",
       "       [1765.699951],\n",
       "       [1773.420044],\n",
       "       [1780.75    ],\n",
       "       [1814.189941],\n",
       "       [1813.97998 ],\n",
       "       [1820.699951],\n",
       "       [1818.859985],\n",
       "       [1837.280029],\n",
       "       [1849.859985],\n",
       "       [1835.839966],\n",
       "       [1847.329956],\n",
       "       [1844.069946],\n",
       "       [1843.060059]])"
      ]
     },
     "execution_count": 11,
     "metadata": {},
     "output_type": "execute_result"
    }
   ],
   "source": [
    "# Exploring 'testing_set'\n",
    "type (testing_set)\n",
    "testing_set.shape\n",
    "testing_set\n"
   ]
  },
  {
   "cell_type": "markdown",
   "metadata": {},
   "source": [
    "### Feature Scaling between range 0 and 1"
   ]
  },
  {
   "cell_type": "code",
   "execution_count": 12,
   "metadata": {
    "colab": {},
    "colab_type": "code",
    "id": "7Qc5Sq-k9dvG"
   },
   "outputs": [],
   "source": [
    "from sklearn.preprocessing import MinMaxScaler\n",
    "\n",
    "sc = MinMaxScaler(feature_range = (0,1))\n",
    "training_set_scaled = sc.fit_transform(training_set)"
   ]
  },
  {
   "cell_type": "code",
   "execution_count": 13,
   "metadata": {
    "colab": {
     "base_uri": "https://localhost:8080/",
     "height": 34
    },
    "colab_type": "code",
    "executionInfo": {
     "elapsed": 1385,
     "status": "ok",
     "timestamp": 1559649725685,
     "user": {
      "displayName": "Pamela Nina",
      "photoUrl": "",
      "userId": "11602827977728219610"
     },
     "user_tz": -60
    },
    "id": "tbEVqf0K9dvK",
    "outputId": "a346b35b-f6f2-4c25-f4e4-1ae4d5af82f5"
   },
   "outputs": [
    {
     "data": {
      "text/plain": [
       "(1063, 1)"
      ]
     },
     "execution_count": 13,
     "metadata": {},
     "output_type": "execute_result"
    },
    {
     "data": {
      "text/plain": [
       "numpy.ndarray"
      ]
     },
     "execution_count": 13,
     "metadata": {},
     "output_type": "execute_result"
    }
   ],
   "source": [
    "# To check the data in 'training_set_scaled'\n",
    "training_set_scaled.shape\n",
    "type(training_set_scaled)\n"
   ]
  },
  {
   "cell_type": "markdown",
   "metadata": {},
   "source": [
    "### Creating data with 60 Timesteps "
   ]
  },
  {
   "cell_type": "code",
   "execution_count": 14,
   "metadata": {
    "colab": {},
    "colab_type": "code",
    "id": "SCs-wnk59dvR"
   },
   "outputs": [],
   "source": [
    "# Creating a data structure with 60 timesteps and 1 output from training_set\n",
    "X_train = []\n",
    "y_train = []\n",
    "for i in range (60, len(training_set)):\n",
    "    X_train.append(training_set_scaled[i-60:i, 0])\n",
    "    y_train.append(training_set_scaled[i, 0])\n",
    "\n",
    "# converting the lists 'X_train' and 'y_train' in numpy arrays\n",
    "X_train, y_train = np.array(X_train), np.array(y_train)\n"
   ]
  },
  {
   "cell_type": "code",
   "execution_count": 15,
   "metadata": {
    "colab": {
     "base_uri": "https://localhost:8080/",
     "height": 34
    },
    "colab_type": "code",
    "executionInfo": {
     "elapsed": 751,
     "status": "ok",
     "timestamp": 1559649736970,
     "user": {
      "displayName": "Pamela Nina",
      "photoUrl": "",
      "userId": "11602827977728219610"
     },
     "user_tz": -60
    },
    "id": "ST1JdaqS9dvW",
    "outputId": "e5df1a72-68dc-4d49-bc19-ec6d83d393dc"
   },
   "outputs": [
    {
     "data": {
      "text/plain": [
       "numpy.ndarray"
      ]
     },
     "execution_count": 15,
     "metadata": {},
     "output_type": "execute_result"
    },
    {
     "data": {
      "text/plain": [
       "(1003, 60)"
      ]
     },
     "execution_count": 15,
     "metadata": {},
     "output_type": "execute_result"
    }
   ],
   "source": [
    "# To check the data in 'X_train'\n",
    "type (X_train)\n",
    "X_train.shape\n"
   ]
  },
  {
   "cell_type": "code",
   "execution_count": 16,
   "metadata": {
    "colab": {
     "base_uri": "https://localhost:8080/",
     "height": 34
    },
    "colab_type": "code",
    "executionInfo": {
     "elapsed": 1374,
     "status": "ok",
     "timestamp": 1559649740683,
     "user": {
      "displayName": "Pamela Nina",
      "photoUrl": "",
      "userId": "11602827977728219610"
     },
     "user_tz": -60
    },
    "id": "tnzwXxZF9dvd",
    "outputId": "4d7cffd7-9316-4ee1-b7ab-60872f780b7d"
   },
   "outputs": [
    {
     "data": {
      "text/plain": [
       "numpy.ndarray"
      ]
     },
     "execution_count": 16,
     "metadata": {},
     "output_type": "execute_result"
    },
    {
     "data": {
      "text/plain": [
       "(1003,)"
      ]
     },
     "execution_count": 16,
     "metadata": {},
     "output_type": "execute_result"
    }
   ],
   "source": [
    "# To check the data in 'y_train'\n",
    "type (y_train)\n",
    "y_train.shape\n"
   ]
  },
  {
   "cell_type": "code",
   "execution_count": 17,
   "metadata": {
    "colab": {
     "base_uri": "https://localhost:8080/",
     "height": 34
    },
    "colab_type": "code",
    "executionInfo": {
     "elapsed": 768,
     "status": "ok",
     "timestamp": 1559649744080,
     "user": {
      "displayName": "Pamela Nina",
      "photoUrl": "",
      "userId": "11602827977728219610"
     },
     "user_tz": -60
    },
    "id": "B8KD8-jZ9dvm",
    "outputId": "6d3e4131-86b6-46f3-c761-9fdcda72d603"
   },
   "outputs": [
    {
     "data": {
      "text/plain": [
       "(1003, 60, 1)"
      ]
     },
     "execution_count": 17,
     "metadata": {},
     "output_type": "execute_result"
    },
    {
     "data": {
      "text/plain": [
       "numpy.ndarray"
      ]
     },
     "execution_count": 17,
     "metadata": {},
     "output_type": "execute_result"
    }
   ],
   "source": [
    "# Reshaping --> in  (Batch size, timesteps, input_dim)\n",
    "X_train_R = np.reshape(X_train, (X_train.shape[0], X_train.shape[1], 1))\n",
    "X_train_R.shape\n",
    "type(X_train_R)"
   ]
  },
  {
   "cell_type": "markdown",
   "metadata": {
    "colab_type": "text",
    "id": "gZvYeafT9dvw"
   },
   "source": [
    "## Part II : Building the RNN network"
   ]
  },
  {
   "cell_type": "code",
   "execution_count": 18,
   "metadata": {
    "colab": {},
    "colab_type": "code",
    "id": "e8p9S8i7VxPD"
   },
   "outputs": [
    {
     "name": "stdout",
     "output_type": "stream",
     "text": [
      "Epoch 1/18\n",
      "1003/1003 [==============================] - 12s 12ms/step - loss: 0.0699 - mean_absolute_error: 0.1872 - acc: 0.0000e+00\n",
      "Epoch 2/18\n",
      "1003/1003 [==============================] - 9s 9ms/step - loss: 0.0159 - mean_absolute_error: 0.0911 - acc: 9.9701e-04\n",
      "Epoch 3/18\n",
      "1003/1003 [==============================] - 8s 8ms/step - loss: 0.0064 - mean_absolute_error: 0.0707 - acc: 9.9701e-04\n",
      "Epoch 4/18\n",
      "1003/1003 [==============================] - 8s 8ms/step - loss: 0.0038 - mean_absolute_error: 0.0445 - acc: 9.9701e-04\n",
      "Epoch 5/18\n",
      "1003/1003 [==============================] - 8s 8ms/step - loss: 0.0023 - mean_absolute_error: 0.0362 - acc: 9.9701e-04\n",
      "Epoch 6/18\n",
      "1003/1003 [==============================] - 8s 8ms/step - loss: 0.0017 - mean_absolute_error: 0.0282 - acc: 9.9701e-04\n",
      "Epoch 7/18\n",
      "1003/1003 [==============================] - 8s 8ms/step - loss: 0.0016 - mean_absolute_error: 0.0278 - acc: 9.9701e-04\n",
      "Epoch 8/18\n",
      "1003/1003 [==============================] - 9s 9ms/step - loss: 0.0015 - mean_absolute_error: 0.0265 - acc: 9.9701e-04\n",
      "Epoch 9/18\n",
      "1003/1003 [==============================] - 8s 8ms/step - loss: 0.0016 - mean_absolute_error: 0.0261 - acc: 9.9701e-04\n",
      "Epoch 10/18\n",
      "1003/1003 [==============================] - 9s 9ms/step - loss: 0.0014 - mean_absolute_error: 0.0246 - acc: 9.9701e-04\n",
      "Epoch 11/18\n",
      "1003/1003 [==============================] - 9s 9ms/step - loss: 0.0015 - mean_absolute_error: 0.0259 - acc: 9.9701e-04\n",
      "Epoch 12/18\n",
      "1003/1003 [==============================] - 8s 8ms/step - loss: 0.0013 - mean_absolute_error: 0.0253 - acc: 9.9701e-04\n",
      "Epoch 13/18\n",
      "1003/1003 [==============================] - 9s 8ms/step - loss: 0.0016 - mean_absolute_error: 0.0264 - acc: 9.9701e-04\n",
      "Epoch 14/18\n",
      "1003/1003 [==============================] - 8s 8ms/step - loss: 0.0014 - mean_absolute_error: 0.0250 - acc: 9.9701e-04\n",
      "Epoch 15/18\n",
      "1003/1003 [==============================] - 8s 8ms/step - loss: 0.0012 - mean_absolute_error: 0.0236 - acc: 9.9701e-04\n",
      "Epoch 16/18\n",
      "1003/1003 [==============================] - 8s 8ms/step - loss: 0.0013 - mean_absolute_error: 0.0247 - acc: 9.9701e-04\n",
      "Epoch 17/18\n",
      "1003/1003 [==============================] - 9s 9ms/step - loss: 0.0014 - mean_absolute_error: 0.0255 - acc: 9.9701e-04\n",
      "Epoch 18/18\n",
      "1003/1003 [==============================] - 8s 8ms/step - loss: 0.0015 - mean_absolute_error: 0.0254 - acc: 9.9701e-04\n"
     ]
    },
    {
     "data": {
      "text/plain": [
       "<keras.callbacks.History at 0x1837e860>"
      ]
     },
     "execution_count": 18,
     "metadata": {},
     "output_type": "execute_result"
    }
   ],
   "source": [
    "# create and fit the LSTM network\n",
    "model_regressor = Sequential()\n",
    "\n",
    "#First LSTM layer with 50 neurons as a variable parameter and dropout regularisation to control overfitting\n",
    "model_regressor.add(LSTM(units=150, return_sequences=True, input_shape = (X_train_R.shape[1], 1)))\n",
    "model_regressor.add(Dropout(0.2))\n",
    "\n",
    "#Hidden layer LSTM layer and Dropout regularisation to control overfitting\n",
    "model_regressor.add(LSTM(units = 150, return_sequences=False))\n",
    "model_regressor.add(Dropout(0.2)) \n",
    "\n",
    "## Output layer and activation function\n",
    "model_regressor.add(Dense(units=1))\n",
    "model_regressor.add(Activation('linear'))\n",
    "\n",
    "# Compiling the RNN\n",
    "model_regressor.compile(optimizer='adam', loss='mean_squared_error', metrics= ['mae', 'acc'])\n",
    "\n",
    "# Fit the neural network\n",
    "model_regressor.fit(X_train_R, y_train, epochs=18, batch_size=128)\n"
   ]
  },
  {
   "cell_type": "markdown",
   "metadata": {
    "colab_type": "text",
    "id": "yvLoxbmn9dwA"
   },
   "source": [
    "## Part III: perform the predictions "
   ]
  },
  {
   "cell_type": "code",
   "execution_count": 19,
   "metadata": {},
   "outputs": [
    {
     "data": {
      "text/plain": [
       "numpy.ndarray"
      ]
     },
     "execution_count": 19,
     "metadata": {},
     "output_type": "execute_result"
    },
    {
     "data": {
      "text/plain": [
       "(74, 1)"
      ]
     },
     "execution_count": 19,
     "metadata": {},
     "output_type": "execute_result"
    },
    {
     "data": {
      "text/plain": [
       "74"
      ]
     },
     "execution_count": 19,
     "metadata": {},
     "output_type": "execute_result"
    },
    {
     "name": "stdout",
     "output_type": "stream",
     "text": [
      "[[1461.640015]\n",
      " [1478.02002 ]\n",
      " [1501.969971]\n",
      " [1539.130005]\n",
      " [1500.280029]\n",
      " [1575.390015]\n",
      " [1629.51001 ]\n",
      " [1656.579956]\n",
      " [1659.420044]\n",
      " [1656.219971]\n",
      " [1640.560059]\n",
      " [1617.209961]\n",
      " [1674.560059]\n",
      " [1683.780029]\n",
      " [1693.219971]\n",
      " [1696.199951]\n",
      " [1632.170044]\n",
      " [1640.02002 ]\n",
      " [1654.930054]\n",
      " [1670.569946]\n",
      " [1637.890015]\n",
      " [1593.880005]\n",
      " [1670.430054]\n",
      " [1718.72998 ]\n",
      " [1626.22998 ]\n",
      " [1633.310059]\n",
      " [1658.810059]\n",
      " [1640.26001 ]\n",
      " [1614.369995]\n",
      " [1588.219971]\n",
      " [1591.      ]\n",
      " [1638.01001 ]\n",
      " [1640.      ]\n",
      " [1622.650024]\n",
      " [1607.949951]\n",
      " [1627.579956]\n",
      " [1622.099976]\n",
      " [1619.439941]\n",
      " [1631.560059]\n",
      " [1633.      ]\n",
      " [1636.400024]\n",
      " [1641.089966]\n",
      " [1639.829956]\n",
      " [1671.72998 ]\n",
      " [1696.170044]\n",
      " [1692.430054]\n",
      " [1668.949951]\n",
      " [1625.949951]\n",
      " [1620.800049]\n",
      " [1670.619995]\n",
      " [1673.099976]\n",
      " [1690.810059]\n",
      " [1686.219971]\n",
      " [1712.359985]\n",
      " [1742.150024]\n",
      " [1761.849976]\n",
      " [1797.27002 ]\n",
      " [1819.26001 ]\n",
      " [1764.77002 ]\n",
      " [1774.26001 ]\n",
      " [1783.76001 ]\n",
      " [1765.699951]\n",
      " [1773.420044]\n",
      " [1780.75    ]\n",
      " [1814.189941]\n",
      " [1813.97998 ]\n",
      " [1820.699951]\n",
      " [1818.859985]\n",
      " [1837.280029]\n",
      " [1849.859985]\n",
      " [1835.839966]\n",
      " [1847.329956]\n",
      " [1844.069946]\n",
      " [1843.060059]]\n"
     ]
    }
   ],
   "source": [
    "# Creating the inputs\n",
    "\n",
    "inputs = dataset_f[len(dataset_f) - len(testing_set) - 60:].values\n",
    "\n",
    "# To check the inputs numpy array\n",
    "type(inputs)\n",
    "inputs.shape\n",
    "len(inputs)\n",
    "#inputs.head()\n",
    "print (inputs)"
   ]
  },
  {
   "cell_type": "code",
   "execution_count": 20,
   "metadata": {
    "colab": {
     "base_uri": "https://localhost:8080/",
     "height": 867
    },
    "colab_type": "code",
    "executionInfo": {
     "elapsed": 1925,
     "status": "ok",
     "timestamp": 1559653106135,
     "user": {
      "displayName": "Pamela Nina",
      "photoUrl": "",
      "userId": "11602827977728219610"
     },
     "user_tz": -60
    },
    "id": "THfqf-cx9dwW",
    "outputId": "3630161f-a867-4461-8b7a-63d07383e98d"
   },
   "outputs": [
    {
     "name": "stdout",
     "output_type": "stream",
     "text": [
      "[[1761.4624]\n",
      " [1770.953 ]\n",
      " [1777.724 ]\n",
      " [1782.779 ]\n",
      " [1786.8822]\n",
      " [1792.1951]\n",
      " [1798.0206]\n",
      " [1804.2574]\n",
      " [1810.2657]\n",
      " [1816.8597]\n",
      " [1824.1887]\n",
      " [1830.6914]\n",
      " [1836.9264]\n",
      " [1842.3906]]\n"
     ]
    }
   ],
   "source": [
    "# Getting the predicted stock price from 12/03/2019 to 12/04/2019\n",
    "#Part I: \n",
    "inputs = inputs.reshape(-1,1)\n",
    "inputs = sc.transform(inputs)\n",
    "X_test = []\n",
    "for i in range(60, inputs.shape[0]):\n",
    "    X_test.append(inputs[i-60:i, 0])\n",
    "X_test = np.array(X_test)\n",
    "X_test = np.reshape(X_test, (X_test.shape[0], X_test.shape[1], 1))\n",
    "\n",
    "# Part 2:  We predict with our 'model_regressor' the output data  is scaled \n",
    "stock_price_prediction = model_regressor.predict(X_test)\n",
    "#print (stock_price_prediction)\n",
    "\n",
    "# Part 3: We use 'sc'from Scikit learning to retransform and unscaled the data \n",
    "stock_price_prediction = sc.inverse_transform(stock_price_prediction)\n",
    "print (stock_price_prediction)\n"
   ]
  },
  {
   "cell_type": "markdown",
   "metadata": {
    "colab_type": "text",
    "id": "HfWdqnrb9dwZ"
   },
   "source": [
    "## Visualising the results"
   ]
  },
  {
   "cell_type": "code",
   "execution_count": 22,
   "metadata": {
    "colab": {
     "base_uri": "https://localhost:8080/",
     "height": 546
    },
    "colab_type": "code",
    "executionInfo": {
     "elapsed": 3380,
     "status": "ok",
     "timestamp": 1559653123681,
     "user": {
      "displayName": "Pamela Nina",
      "photoUrl": "",
      "userId": "11602827977728219610"
     },
     "user_tz": -60
    },
    "id": "9v5Wxmc29dwa",
    "outputId": "40e49260-2512-439f-ba3c-e8d2018649e7"
   },
   "outputs": [
    {
     "data": {
      "text/html": [
       "<iframe id=\"igraph\" scrolling=\"no\" style=\"border:none;\" seamless=\"seamless\" src=\"https://plot.ly/~Pamela25/12.embed\" height=\"525px\" width=\"100%\"></iframe>"
      ],
      "text/plain": [
       "<plotly.tools.PlotlyDisplay object>"
      ]
     },
     "execution_count": 22,
     "metadata": {},
     "output_type": "execute_result"
    }
   ],
   "source": [
    "#plot and compare the prediction\n",
    "training_set_1 = dataset.iloc[0:2285, 5:]\n",
    "testing_set_1 = dataset.iloc [2285:, 5:]\n",
    "\n",
    "trace_1 = go.Scatter(x = training_set_1.index, y=training_set, mode = 'lines', name ='Training')\n",
    "trace_2 = go.Scatter(x = testing_set_1.index, y=testing_set, mode = 'lines', name = 'Testing')\n",
    "trace_3 = go.Scatter(x = testing_set_1.index, y=stock_price_prediction, mode = 'lines', name = 'Prediction')\n",
    "\n",
    "data = [trace_1, trace_2, trace_3]\n",
    "layout = dict(title = 'LSTM Amazon Stock Market Prediction',\n",
    "              xaxis = dict(title = 'Date'),\n",
    "              yaxis = dict(title = 'Adj Close'),\n",
    "              )\n",
    "fig = dict(data=data, layout=layout)\n",
    "py.iplot(fig, filename='LSTM')"
   ]
  },
  {
   "cell_type": "code",
   "execution_count": 23,
   "metadata": {
    "colab": {
     "base_uri": "https://localhost:8080/",
     "height": 546
    },
    "colab_type": "code",
    "executionInfo": {
     "elapsed": 2353,
     "status": "ok",
     "timestamp": 1559653169639,
     "user": {
      "displayName": "Pamela Nina",
      "photoUrl": "",
      "userId": "11602827977728219610"
     },
     "user_tz": -60
    },
    "id": "hhZ3ORKX9dwe",
    "outputId": "72d95cb2-9b4d-476d-ebe5-cef038490bda"
   },
   "outputs": [
    {
     "data": {
      "text/html": [
       "<iframe id=\"igraph\" scrolling=\"no\" style=\"border:none;\" seamless=\"seamless\" src=\"https://plot.ly/~Pamela25/12.embed\" height=\"525px\" width=\"100%\"></iframe>"
      ],
      "text/plain": [
       "<plotly.tools.PlotlyDisplay object>"
      ]
     },
     "execution_count": 23,
     "metadata": {},
     "output_type": "execute_result"
    }
   ],
   "source": [
    "# Visualising just the prediction\n",
    "\n",
    "training_set_1 = dataset_f.iloc[0:1027]\n",
    "testing_set_1 = dataset_f.iloc [1027:]\n",
    "\n",
    "\n",
    "#plot and compare the predictions\n",
    "trace_testing = go.Scatter(x = testing_set_1.index, y=testing_set, mode = 'lines', name = 'Real Amazon Stock Price')\n",
    "trace_forecasting = go.Scatter(x = testing_set_1.index, y=stock_price_prediction, mode = 'lines', name = 'Predicted Amazon Stock Price')\n",
    "\n",
    "data = [trace_testing, trace_forecasting]\n",
    "layout = dict(title = 'LSTM Amazon Stock Market Prediction',\n",
    "              xaxis = dict(title = 'Date'),\n",
    "              yaxis = dict(title = 'Adj Close'),\n",
    "              )\n",
    "fig = dict(data=data, layout=layout)\n",
    "py.iplot(fig, filename='LSTM')"
   ]
  },
  {
   "cell_type": "code",
   "execution_count": 21,
   "metadata": {
    "colab": {
     "base_uri": "https://localhost:8080/",
     "height": 34
    },
    "colab_type": "code",
    "executionInfo": {
     "elapsed": 860,
     "status": "ok",
     "timestamp": 1559653181327,
     "user": {
      "displayName": "Pamela Nina",
      "photoUrl": "",
      "userId": "11602827977728219610"
     },
     "user_tz": -60
    },
    "id": "c4ZRr2Qe9dwh",
    "outputId": "74636e68-8d85-4138-b166-76e765bca2c3"
   },
   "outputs": [
    {
     "name": "stdout",
     "output_type": "stream",
     "text": [
      "18.47422635054383\n"
     ]
    }
   ],
   "source": [
    "rmse = sqrt(mean_squared_error(testing_set, stock_price_prediction))\n",
    "print(rmse)"
   ]
  },
  {
   "cell_type": "code",
   "execution_count": 0,
   "metadata": {
    "colab": {},
    "colab_type": "code",
    "id": "AmqmoyuH9dww"
   },
   "outputs": [],
   "source": []
  },
  {
   "cell_type": "code",
   "execution_count": 0,
   "metadata": {
    "colab": {},
    "colab_type": "code",
    "id": "jfYXgqsr9dwy"
   },
   "outputs": [],
   "source": []
  }
 ],
 "metadata": {
  "accelerator": "GPU",
  "colab": {
   "collapsed_sections": [],
   "name": "RNN - LSTM.ipynb",
   "provenance": [],
   "version": "0.3.2"
  },
  "kernelspec": {
   "display_name": "Python 3",
   "language": "python",
   "name": "python3"
  },
  "language_info": {
   "codemirror_mode": {
    "name": "ipython",
    "version": 3
   },
   "file_extension": ".py",
   "mimetype": "text/x-python",
   "name": "python",
   "nbconvert_exporter": "python",
   "pygments_lexer": "ipython3",
   "version": "3.5.6"
  }
 },
 "nbformat": 4,
 "nbformat_minor": 1
}
